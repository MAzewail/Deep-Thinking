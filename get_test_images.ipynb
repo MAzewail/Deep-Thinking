{
  "nbformat": 4,
  "nbformat_minor": 0,
  "metadata": {
    "colab": {
      "provenance": [],
      "authorship_tag": "ABX9TyPvYB1haMpvU7vt9ApDvYQY",
      "include_colab_link": true
    },
    "kernelspec": {
      "name": "python3",
      "display_name": "Python 3"
    },
    "language_info": {
      "name": "python"
    }
  },
  "cells": [
    {
      "cell_type": "markdown",
      "metadata": {
        "id": "view-in-github",
        "colab_type": "text"
      },
      "source": [
        "<a href=\"https://colab.research.google.com/github/MAzewail/Deep-Thinking/blob/main/get_test_images.ipynb\" target=\"_parent\"><img src=\"https://colab.research.google.com/assets/colab-badge.svg\" alt=\"Open In Colab\"/></a>"
      ]
    },
    {
      "cell_type": "markdown",
      "source": [
        "#This notebook about gathering data from the internet and download it inside a particular folder for testing a DL model\n",
        "\n"
      ],
      "metadata": {
        "id": "aka8noLzCPop"
      }
    },
    {
      "cell_type": "markdown",
      "source": [
        "######First we need to create \"*test*\" folder then creating another two folders for \"*class1*\" and \"*class2*\""
      ],
      "metadata": {
        "id": "NAN1kVRfDATY"
      }
    },
    {
      "cell_type": "code",
      "execution_count": 1,
      "metadata": {
        "id": "9_FkLHOJ4NVr"
      },
      "outputs": [],
      "source": [
        "import os, shutil \n",
        "os.mkdir('test')\n",
        "os.mkdir('test/class1')\n",
        "os.mkdir('test/class2')"
      ]
    },
    {
      "cell_type": "markdown",
      "source": [
        "######Then we create a function to take any file link and return the saved file name"
      ],
      "metadata": {
        "id": "zQHxwnjvF13s"
      }
    },
    {
      "cell_type": "code",
      "source": [
        "def get_file(file_link):\n",
        "  file_details = ! wget \"{file_link}\"\n",
        "  file_name = file_details[5][12:-1]\n",
        "  return file_name\n",
        "\n",
        "file_path='https://ae01.alicdn.com/kf/H3d49f54f546d417bbac189cd0029675bA/100-900-600.jpg_Q90.jpg'\n",
        "get_file(file_path)"
      ],
      "metadata": {
        "colab": {
          "base_uri": "https://localhost:8080/",
          "height": 36
        },
        "id": "n5PgWDa05Awt",
        "outputId": "289752d5-fc06-471a-caac-8646c1e91eff"
      },
      "execution_count": 6,
      "outputs": [
        {
          "output_type": "execute_result",
          "data": {
            "text/plain": [
              "'100-900-600.jpg_Q90.jpg'"
            ],
            "application/vnd.google.colaboratory.intrinsic+json": {
              "type": "string"
            }
          },
          "metadata": {},
          "execution_count": 6
        }
      ]
    },
    {
      "cell_type": "markdown",
      "source": [
        "######Another important step is creating a list for desired files"
      ],
      "metadata": {
        "id": "AO440eDvGRn7"
      }
    },
    {
      "cell_type": "code",
      "source": [
        "class1_links = ['https://ae01.alicdn.com/kf/H3d49f54f546d417bbac189cd0029675bA/100-900-600.jpg_Q90.jpg',\n",
        "'https://hpclaser.co.uk/wp-content/uploads/2019/07/3040-iso-left-open_1000x1000-e1563959140779.jpg',\n",
        "'https://hpclaser.co.uk/wp-content/uploads/2019/07/LS3040-Desktop-Laser.jpg']\n",
        "\n",
        "class2_links = ['https://hpclaser.co.uk/wp-content/uploads/2019/07/3040-left-1000x1000-e1563959154993.jpg',\n",
        "'https://hpclaser.co.uk/wp-content/uploads/2019/07/3040-iso-left1000x1000-e1563959145502.jpg',\n",
        "'https://hpclaser.co.uk/wp-content/uploads/2019/07/3040-rear_1000x1000-e1563959159839.jpg']"
      ],
      "metadata": {
        "id": "FoBnsmS0FYhk"
      },
      "execution_count": 7,
      "outputs": []
    },
    {
      "cell_type": "markdown",
      "source": [
        "######Finally copying the downloaded files to the desired folder"
      ],
      "metadata": {
        "id": "aDB8KmXqGzQJ"
      }
    },
    {
      "cell_type": "code",
      "source": [
        "class1 = 'test/class1/'\n",
        "class2 = 'test/class2/'\n",
        "\n",
        "def copy_files(files_list , paths):\n",
        "  for i in files_list:\n",
        "    src = get_file(i)\n",
        "    shutil.copyfile(src , paths+src)\n",
        "\n",
        "copy_files(class1_links , class1)"
      ],
      "metadata": {
        "id": "fsRQBoJVFdwh"
      },
      "execution_count": 9,
      "outputs": []
    },
    {
      "cell_type": "code",
      "source": [
        "copy_files(class2_links , class2)"
      ],
      "metadata": {
        "id": "yQihD7aDIaws"
      },
      "execution_count": 10,
      "outputs": []
    },
    {
      "cell_type": "markdown",
      "source": [
        "#As shown before the files have downloaded and added successfully at the test folder and each class1 got its own files"
      ],
      "metadata": {
        "id": "yueBF8GWI04W"
      }
    }
  ]
}